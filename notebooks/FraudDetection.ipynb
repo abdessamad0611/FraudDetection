{
 "cells": [
  {
   "cell_type": "code",
   "execution_count": 34,
   "id": "45cb48c2-c367-47a5-b98a-bba643d2ed5c",
   "metadata": {},
   "outputs": [],
   "source": [
    "import matplotlib.pyplot as plt\n",
    "import seaborn as sns\n",
    "import numpy as np\n",
    "import pyspark.sql.functions as F\n",
    "from pyspark.sql import SparkSession\n",
    "from pyspark.ml.feature import OneHotEncoder, StringIndexer, StandardScaler\n",
    "from pyspark.ml import Pipeline\n",
    "from pyspark.ml.classification import LogisticRegression\n",
    "from pyspark.ml.evaluation import MulticlassClassificationEvaluator\n",
    "from pyspark.ml.feature import VectorAssembler\n",
    "from pyspark.mllib.evaluation import MulticlassMetrics\n",
    "from pyspark.sql.types import FloatType"
   ]
  },
  {
   "cell_type": "code",
   "execution_count": 2,
   "id": "90fda52d-0523-4101-929e-cf095c3cd201",
   "metadata": {},
   "outputs": [
    {
     "data": {
      "text/html": [
       "\n",
       "            <div>\n",
       "                <p><b>SparkSession - in-memory</b></p>\n",
       "                \n",
       "        <div>\n",
       "            <p><b>SparkContext</b></p>\n",
       "\n",
       "            <p><a href=\"http://2f8027315415:4040\">Spark UI</a></p>\n",
       "\n",
       "            <dl>\n",
       "              <dt>Version</dt>\n",
       "                <dd><code>v3.5.0</code></dd>\n",
       "              <dt>Master</dt>\n",
       "                <dd><code>spark://spark-master:7077</code></dd>\n",
       "              <dt>AppName</dt>\n",
       "                <dd><code>Fraud Detection - Logistic Regression</code></dd>\n",
       "            </dl>\n",
       "        </div>\n",
       "        \n",
       "            </div>\n",
       "        "
      ],
      "text/plain": [
       "<pyspark.sql.session.SparkSession at 0x7f815e858290>"
      ]
     },
     "execution_count": 2,
     "metadata": {},
     "output_type": "execute_result"
    }
   ],
   "source": [
    "# Initialize SparkSession\n",
    "spark = SparkSession.builder \\\n",
    "    .master(\"spark://spark-master:7077\") \\\n",
    "    .appName(\"Fraud Detection - Logistic Regression\") \\\n",
    "    .getOrCreate()\n",
    "spark"
   ]
  },
  {
   "cell_type": "code",
   "execution_count": 3,
   "id": "1306f231-d379-4620-8203-cc8f8ee11a52",
   "metadata": {},
   "outputs": [
    {
     "name": "stdout",
     "output_type": "stream",
     "text": [
      "+----+--------+--------+-----------+-------------+--------------+-----------+--------------+--------------+-------+--------------+\n",
      "|step|    type|  amount|   nameOrig|oldbalanceOrg|newbalanceOrig|   nameDest|oldbalanceDest|newbalanceDest|isFraud|isFlaggedFraud|\n",
      "+----+--------+--------+-----------+-------------+--------------+-----------+--------------+--------------+-------+--------------+\n",
      "|   1| PAYMENT| 9839.64|C1231006815|     170136.0|     160296.36|M1979787155|           0.0|           0.0|      0|             0|\n",
      "|   1| PAYMENT| 1864.28|C1666544295|      21249.0|      19384.72|M2044282225|           0.0|           0.0|      0|             0|\n",
      "|   1|TRANSFER|   181.0|C1305486145|        181.0|           0.0| C553264065|           0.0|           0.0|      1|             0|\n",
      "|   1|CASH_OUT|   181.0| C840083671|        181.0|           0.0|  C38997010|       21182.0|           0.0|      1|             0|\n",
      "|   1| PAYMENT|11668.14|C2048537720|      41554.0|      29885.86|M1230701703|           0.0|           0.0|      0|             0|\n",
      "+----+--------+--------+-----------+-------------+--------------+-----------+--------------+--------------+-------+--------------+\n",
      "only showing top 5 rows\n",
      "\n"
     ]
    }
   ],
   "source": [
    "spark.conf.set(\"spark.sql.repl.eagerEval.enabled\", True)# Property used to format output tables better\n",
    "\n",
    "df = spark.read.csv(\"hdfs://namenode:9000/user/data/Fraud.csv\", inferSchema=True, header=True)\n",
    "df.show(5)"
   ]
  },
  {
   "cell_type": "markdown",
   "id": "2865e78d-2a7c-436d-a505-ed325ba0c60c",
   "metadata": {},
   "source": [
    "# Data Exploration"
   ]
  },
  {
   "cell_type": "code",
   "execution_count": 4,
   "id": "1f769258-8f8d-4045-bdf8-3c2464a85039",
   "metadata": {},
   "outputs": [
    {
     "name": "stdout",
     "output_type": "stream",
     "text": [
      "root\n",
      " |-- step: integer (nullable = true)\n",
      " |-- type: string (nullable = true)\n",
      " |-- amount: double (nullable = true)\n",
      " |-- nameOrig: string (nullable = true)\n",
      " |-- oldbalanceOrg: double (nullable = true)\n",
      " |-- newbalanceOrig: double (nullable = true)\n",
      " |-- nameDest: string (nullable = true)\n",
      " |-- oldbalanceDest: double (nullable = true)\n",
      " |-- newbalanceDest: double (nullable = true)\n",
      " |-- isFraud: integer (nullable = true)\n",
      " |-- isFlaggedFraud: integer (nullable = true)\n",
      "\n"
     ]
    }
   ],
   "source": [
    "df.printSchema()"
   ]
  },
  {
   "cell_type": "code",
   "execution_count": 5,
   "id": "1bf265a5-fe8e-4c8b-97d9-7bd45d8d58fc",
   "metadata": {},
   "outputs": [
    {
     "data": {
      "text/plain": [
       "6362620"
      ]
     },
     "execution_count": 5,
     "metadata": {},
     "output_type": "execute_result"
    }
   ],
   "source": [
    "df.count()"
   ]
  },
  {
   "cell_type": "code",
   "execution_count": 6,
   "id": "d5ef2b9d-bc24-48a2-8334-b5dfa0bd1e00",
   "metadata": {},
   "outputs": [
    {
     "data": {
      "text/plain": [
       "6362620"
      ]
     },
     "execution_count": 6,
     "metadata": {},
     "output_type": "execute_result"
    }
   ],
   "source": [
    "df.select(\"*\").distinct().count()"
   ]
  },
  {
   "cell_type": "markdown",
   "id": "6dde7139-fa06-46db-9701-5b581625aa5c",
   "metadata": {},
   "source": [
    "# Preprocessing"
   ]
  },
  {
   "cell_type": "markdown",
   "id": "cf28732d-3a18-469f-a9b1-f0c96cd60090",
   "metadata": {},
   "source": [
    "## Simplde feature selection"
   ]
  },
  {
   "cell_type": "code",
   "execution_count": 7,
   "id": "0c786d43-dc46-4469-ae1e-ab32c17e56ea",
   "metadata": {},
   "outputs": [
    {
     "name": "stdout",
     "output_type": "stream",
     "text": [
      "+----+--------+--------+-------------+--------------+--------------+--------------+-------+\n",
      "|step|    type|  amount|oldbalanceOrg|newbalanceOrig|oldbalanceDest|newbalanceDest|isFraud|\n",
      "+----+--------+--------+-------------+--------------+--------------+--------------+-------+\n",
      "|   1| PAYMENT| 9839.64|     170136.0|     160296.36|           0.0|           0.0|      0|\n",
      "|   1| PAYMENT| 1864.28|      21249.0|      19384.72|           0.0|           0.0|      0|\n",
      "|   1|TRANSFER|   181.0|        181.0|           0.0|           0.0|           0.0|      1|\n",
      "|   1|CASH_OUT|   181.0|        181.0|           0.0|       21182.0|           0.0|      1|\n",
      "|   1| PAYMENT|11668.14|      41554.0|      29885.86|           0.0|           0.0|      0|\n",
      "+----+--------+--------+-------------+--------------+--------------+--------------+-------+\n",
      "only showing top 5 rows\n",
      "\n"
     ]
    }
   ],
   "source": [
    "df = df.select(\"step\", \"type\", \"amount\", \"oldbalanceOrg\", \"newbalanceOrig\", \"oldbalanceDest\", \"newbalanceDest\", \"isFraud\")\n",
    "df.show(5)"
   ]
  },
  {
   "cell_type": "markdown",
   "id": "7bd5ae70-7bb5-4a65-a336-bfc06986efce",
   "metadata": {},
   "source": [
    "## Train test split"
   ]
  },
  {
   "cell_type": "code",
   "execution_count": 8,
   "id": "adf1d0c6-e529-4d67-8772-032dfcfc6e7a",
   "metadata": {},
   "outputs": [],
   "source": [
    "train, test = df.randomSplit([0.7, 0.3], seed=5624)"
   ]
  },
  {
   "cell_type": "code",
   "execution_count": 9,
   "id": "b39d9da9-8f5b-4f33-8342-1a2f2f9ad2dc",
   "metadata": {},
   "outputs": [
    {
     "name": "stdout",
     "output_type": "stream",
     "text": [
      "root\n",
      " |-- step: integer (nullable = true)\n",
      " |-- type: string (nullable = true)\n",
      " |-- amount: double (nullable = true)\n",
      " |-- oldbalanceOrg: double (nullable = true)\n",
      " |-- newbalanceOrig: double (nullable = true)\n",
      " |-- oldbalanceDest: double (nullable = true)\n",
      " |-- newbalanceDest: double (nullable = true)\n",
      " |-- isFraud: integer (nullable = true)\n",
      "\n"
     ]
    }
   ],
   "source": [
    "train.printSchema()"
   ]
  },
  {
   "cell_type": "markdown",
   "id": "12794439-0696-4f58-803e-a48607b05544",
   "metadata": {},
   "source": [
    "## Handling Categorical columns"
   ]
  },
  {
   "cell_type": "markdown",
   "id": "a93628ae-7d37-41f3-98ab-a93c97c1f0b4",
   "metadata": {},
   "source": [
    "### String indexer"
   ]
  },
  {
   "cell_type": "code",
   "execution_count": 10,
   "id": "da629b6c-35b6-464d-b4f9-97348077b773",
   "metadata": {},
   "outputs": [],
   "source": [
    "# Define StringIndexer for categorical column\n",
    "string_indexer = [StringIndexer(inputCol=\"type\",\n",
    "                                outputCol=\"type_StringIndexer\",\n",
    "                                handleInvalid=\"skip\")]"
   ]
  },
  {
   "cell_type": "markdown",
   "id": "5d9fa59e-2f4f-4d3d-8332-a8e62cc80882",
   "metadata": {},
   "source": [
    "### One-Hot Encoding"
   ]
  },
  {
   "cell_type": "code",
   "execution_count": 11,
   "id": "4c115ea2-0789-46ac-976e-cd0f44a45962",
   "metadata": {},
   "outputs": [],
   "source": [
    "from pyspark.ml.feature import OneHotEncoder\n",
    "\n",
    "# Define OneHotEncoder for the indexed column\n",
    "one_hot_encoder = [OneHotEncoder(inputCols=[\"type_StringIndexer\"],\n",
    "                                 outputCols=[\"type_OneHotEncoder\"])]\n"
   ]
  },
  {
   "cell_type": "markdown",
   "id": "e368a65e-d22e-40e7-85a5-35dc42a94124",
   "metadata": {},
   "source": [
    "## Scaling Numeric Columns"
   ]
  },
  {
   "cell_type": "code",
   "execution_count": 16,
   "id": "eb5fdf2f-d48a-4b8a-91ff-5705b56a371b",
   "metadata": {},
   "outputs": [],
   "source": [
    "from pyspark.ml.feature import VectorAssembler, StandardScaler\n",
    "\n",
    "# Define the numeric columns\n",
    "numeric_columns = [\"step\", \"amount\", \"oldbalanceOrg\", \"newbalanceOrig\", \"oldbalanceDest\", \"newbalanceDest\"]\n",
    "\n",
    "# Assemble numeric columns into a single vector\n",
    "numeric_vector_col = \"numeric_features\"\n",
    "numeric_vector_assembler = VectorAssembler(inputCols=numeric_columns, outputCol=numeric_vector_col)\n",
    "\n",
    "# Apply StandardScaler to the numeric vector\n",
    "scaled_numeric_vector_col = \"scaled_numeric_features\"\n",
    "standard_scaler = StandardScaler(inputCol=numeric_vector_col,\n",
    "                                 outputCol=scaled_numeric_vector_col,\n",
    "                                 withMean=True,   # Center the data\n",
    "                                 withStd=True)    # Scale to unit variance\n",
    "\n",
    "# Collect these stages\n",
    "scaler_stages = [numeric_vector_assembler, standard_scaler]\n"
   ]
  },
  {
   "cell_type": "markdown",
   "id": "85eb6e87-cd4d-468e-b752-49a525658fa7",
   "metadata": {},
   "source": [
    "## Combining Features with VectorAssembler"
   ]
  },
  {
   "cell_type": "code",
   "execution_count": 17,
   "id": "271953f0-6b92-48a2-95f0-ef0f329579d6",
   "metadata": {},
   "outputs": [],
   "source": [
    "# Define input columns for the VectorAssembler\n",
    "assemblerInput = [scaled_numeric_vector_col, \"isFraud\", \"type_OneHotEncoder\"]\n",
    "\n",
    "# Define VectorAssembler\n",
    "vector_assembler = VectorAssembler(inputCols=assemblerInput,\n",
    "                                   outputCol=\"VectorAssembler_features\")"
   ]
  },
  {
   "cell_type": "markdown",
   "id": "442f8d3c-6c5e-4e66-a9c0-f475f2ceeabe",
   "metadata": {},
   "source": [
    "## Building the Pipeline"
   ]
  },
  {
   "cell_type": "code",
   "execution_count": 18,
   "id": "66a886a6-5496-4e94-9402-0e0c092ba1f4",
   "metadata": {},
   "outputs": [],
   "source": [
    "from pyspark.ml import Pipeline\n",
    "\n",
    "# Combine all stages\n",
    "stages = []\n",
    "stages += string_indexer\n",
    "stages += one_hot_encoder\n",
    "stages += scaler_stages  # Add scalers for numeric columns\n",
    "stages += [vector_assembler]\n",
    "\n",
    "# Define the pipeline\n",
    "pipeline = Pipeline(stages=stages)\n"
   ]
  },
  {
   "cell_type": "markdown",
   "id": "7a751b97-a62f-48de-abde-9dc1f61c5e5b",
   "metadata": {},
   "source": [
    "## Fitting and Transforming Data"
   ]
  },
  {
   "cell_type": "code",
   "execution_count": 20,
   "id": "b30a47b5-e7f0-4fb2-970c-3c185feb04fb",
   "metadata": {},
   "outputs": [],
   "source": [
    "# Fit the pipeline on the training data\n",
    "model = pipeline.fit(train)\n",
    "\n",
    "# Transform data\n",
    "transformed_train_data = model.transform(train)\n",
    "transformed_test_data = model.transform(test)\n"
   ]
  },
  {
   "cell_type": "markdown",
   "id": "810b99d6-ebc6-43f7-865d-a7ba74237643",
   "metadata": {},
   "source": [
    "## Selecting Features and label "
   ]
  },
  {
   "cell_type": "code",
   "execution_count": 21,
   "id": "f0667cac-2742-4b5a-890d-7ce7b2d080fb",
   "metadata": {},
   "outputs": [
    {
     "name": "stdout",
     "output_type": "stream",
     "text": [
      "+--------------------+-----+\n",
      "|            features|label|\n",
      "+--------------------+-----+\n",
      "|[-1.7028854456403...|    0|\n",
      "|[-1.7028854456403...|    0|\n",
      "|[-1.7028854456403...|    0|\n",
      "|[-1.7028854456403...|    0|\n",
      "|[-1.7028854456403...|    0|\n",
      "|[-1.7028854456403...|    0|\n",
      "|[-1.7028854456403...|    0|\n",
      "|[-1.7028854456403...|    0|\n",
      "|[-1.7028854456403...|    0|\n",
      "|[-1.7028854456403...|    0|\n",
      "+--------------------+-----+\n",
      "only showing top 10 rows\n",
      "\n"
     ]
    }
   ],
   "source": [
    "train_data = transformed_train_data.select(F.col(\"VectorAssembler_features\").alias(\"features\"),\n",
    "                                    F.col(\"isFraud\").alias(\"label\"))\n",
    "\n",
    "test_data = transformed_test_data.select(F.col(\"VectorAssembler_features\").alias(\"features\"),\n",
    "                                  F.col(\"isFraud\").alias(\"label\"))\n",
    "\n",
    "train_data.show(10)"
   ]
  },
  {
   "cell_type": "markdown",
   "id": "409db273-a431-49db-8047-19d2bb51b67d",
   "metadata": {},
   "source": [
    "# Training the model"
   ]
  },
  {
   "cell_type": "code",
   "execution_count": 24,
   "id": "e33202ab-44dc-4477-b097-5ab343964b27",
   "metadata": {},
   "outputs": [],
   "source": [
    "lr_spark = LogisticRegression().fit(train_data)"
   ]
  },
  {
   "cell_type": "code",
   "execution_count": 25,
   "id": "e8c334c4-301c-44e3-94c6-3511aaf4c8a0",
   "metadata": {},
   "outputs": [],
   "source": [
    "# Make predictions on the test data\n",
    "predictions = lr_spark.transform(test_data)"
   ]
  },
  {
   "cell_type": "markdown",
   "id": "8be32243-995e-4b39-856f-fe02f8937f92",
   "metadata": {},
   "source": [
    "# Evaluating the model "
   ]
  },
  {
   "cell_type": "code",
   "execution_count": 35,
   "id": "ab116716-c9fd-4e0e-a833-13681a045bc1",
   "metadata": {},
   "outputs": [
    {
     "name": "stdout",
     "output_type": "stream",
     "text": [
      "AUC: 1.0\n",
      "AUC-PR: 1.0\n"
     ]
    }
   ],
   "source": [
    "from pyspark.ml.evaluation import BinaryClassificationEvaluator\n",
    "\n",
    "# AUC (Area Under ROC)\n",
    "auc_evaluator = BinaryClassificationEvaluator(labelCol=\"label\", rawPredictionCol=\"prediction\", metricName=\"areaUnderROC\")\n",
    "auc = auc_evaluator.evaluate(predictions)\n",
    "print(f\"AUC: {auc}\")\n",
    "\n",
    "# AUC-PR (Area Under Precision-Recall Curve)\n",
    "auc_pr_evaluator = BinaryClassificationEvaluator(labelCol=\"label\", rawPredictionCol=\"prediction\", metricName=\"areaUnderPR\")\n",
    "auc_pr = auc_pr_evaluator.evaluate(predictions)\n",
    "print(f\"AUC-PR: {auc_pr}\")\n"
   ]
  },
  {
   "cell_type": "code",
   "execution_count": 36,
   "id": "31bf68d9-b070-4f2c-a4c1-25ad50f58709",
   "metadata": {},
   "outputs": [
    {
     "data": {
      "image/png": "[encoded data removed]",
      "text/plain": [
       "<Figure size 600x500 with 1 Axes>"
      ]
     },
     "metadata": {},
     "output_type": "display_data"
    }
   ],
   "source": [
    "# Create a confusion matrix DataFrame\n",
    "confusion_matrix = predictions.groupBy(\"prediction\", \"label\").count().toPandas()\n",
    "\n",
    "# Reshape the confusion matrix for easy plotting\n",
    "confusion_matrix_pivot = confusion_matrix.pivot(index=\"label\", columns=\"prediction\", values=\"count\").fillna(0)\n",
    "\n",
    "# Plot the confusion matrix as a heatmap\n",
    "plt.figure(figsize=(6, 5))\n",
    "sns.heatmap(confusion_matrix_pivot, annot=True, fmt=\"g\", cmap=\"Blues\", cbar=False)\n",
    "plt.title(\"Confusion Matrix\")\n",
    "plt.ylabel(\"True Label\")\n",
    "plt.xlabel(\"Predicted Label\")\n",
    "plt.show()\n"
   ]
  },
  {
   "cell_type": "code",
   "execution_count": null,
   "id": "617d84ef-c94f-4307-9674-9613b671cbdb",
   "metadata": {},
   "outputs": [],
   "source": []
  },
  {
   "cell_type": "code",
   "execution_count": null,
   "id": "4fa3c898-0852-41c5-849e-094ffe41dcd6",
   "metadata": {},
   "outputs": [],
   "source": []
  },
  {
   "cell_type": "code",
   "execution_count": null,
   "id": "0ca4b4a9-4e50-4430-8e4a-aea3fee12b2d",
   "metadata": {},
   "outputs": [],
   "source": []
  },
  {
   "cell_type": "code",
   "execution_count": null,
   "id": "11b55cf5-5e6d-4bbe-ae33-e11b43d0756d",
   "metadata": {},
   "outputs": [],
   "source": []
  },
  {
   "cell_type": "code",
   "execution_count": null,
   "id": "e7e2a2ed-ecef-4ea3-bf8a-62fb05875b55",
   "metadata": {},
   "outputs": [],
   "source": []
  },
  {
   "cell_type": "code",
   "execution_count": null,
   "id": "01383c59-e7ef-4f04-a1bc-70a2a2931194",
   "metadata": {},
   "outputs": [],
   "source": []
  },
  {
   "cell_type": "code",
   "execution_count": null,
   "id": "c58e6a94-2d21-4ece-964d-4c7be5d85ece",
   "metadata": {},
   "outputs": [],
   "source": []
  },
  {
   "cell_type": "code",
   "execution_count": null,
   "id": "64c0ca3e-41bd-451e-9e80-c7f52bc99e51",
   "metadata": {},
   "outputs": [],
   "source": []
  },
  {
   "cell_type": "code",
   "execution_count": null,
   "id": "fc47032e-d63e-41da-ac68-de8d48f13bb1",
   "metadata": {},
   "outputs": [],
   "source": []
  }
 ],
 "metadata": {
  "kernelspec": {
   "display_name": "Python 3 (ipykernel)",
   "language": "python",
   "name": "python3"
  },
  "language_info": {
   "codemirror_mode": {
    "name": "ipython",
    "version": 3
   },
   "file_extension": ".py",
   "mimetype": "text/x-python",
   "name": "python",
   "nbconvert_exporter": "python",
   "pygments_lexer": "ipython3",
   "version": "3.11.6"
  }
 },
 "nbformat": 4,
 "nbformat_minor": 5
}
